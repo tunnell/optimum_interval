{
 "metadata": {
  "name": ""
 },
 "nbformat": 3,
 "nbformat_minor": 0,
 "worksheets": [
  {
   "cells": [
    {
     "cell_type": "heading",
     "level": 1,
     "metadata": {},
     "source": [
      "$\\bar{C}_\\text{max}(1 - \\alpha, \\mu)$"
     ]
    },
    {
     "cell_type": "markdown",
     "metadata": {},
     "source": [
      "Computing $\\bar{C}_\\text{max}(C, \\mu)$ for optimum interval calculation, where $\\mu$ is the number of expected events and $1 - \\alpha$ is how frequently you reject the null hypothesis when it is true."
     ]
    },
    {
     "cell_type": "markdown",
     "metadata": {},
     "source": [
      "The <b>single-event energy spectrum</b>, that is, the probability density function which tells us which energy depositions are likely to occur, is independent of the chosen WIMP model -- we always expect a simple exponential recoil spectrum.\n",
      "\n",
      "The <b>number of dark matter events</b> detected does depend on the WIMP mass and cross-section. We know, however, that it must follow a Poisson distribution, which leaves the Poisson mean (which equals the expected number of events) as the only parameter left to estimate. From an upper limit on this mean, an upper limit curve in the dark matter mass \u2013 cross-section plane can be computed.\n",
      "\n",
      "*\tA <b>list_of_energies</b> list of reconstructed energy depositions of single events (from here on simply \u2018energies\u2019), either measured during some run of an actual detector, or generated using Monte Carlo.)\n",
      "*\tAn <b>interval</b> is an interval in energy space.\n",
      "*\tThe <b>size</b> of an interval is the fraction of energies expected in that interval. Clearly, this depends on which energy spectrum we assume, but is independent of the Poisson mean we are trying to constrain. By definition this is a number between 0 and 1.\n",
      "*\tThe <b>K-largest</b> interval of a run is the largest interval containing K events in that run. Recall our definition of size: a \u2018large\u2019 interval is one which is unusually empty in that run. Clearly k-largest intervals will terminate at (or technically, just before) an observed energy, or at one of the boundaries of our energy space. Again, which interval in a run is the k\u2013largest, depends on our energy spectrum, but not on our Poisson mean.\n",
      "*\tThe <b>extremeness</b> of a K-largest interval is the probability of finding the K-largest interval in a run to be smaller. This clearly does depend on the Poisson mean: if we expect very few events, large gap sizes are more likely. Clearly extremeness is a number between 0 and 1; values close to 1 indicate unusually large intervals, that is, usually large (almost-)empty regions in the measured energies.\n",
      " For example, if the extremeness of a k-largest interval in a run is 0.8, that means that 80% of runs have k-largest intervals which are smaller than the k-largest interval in this run.\n",
      "*\tThe <b>optimum interval statistic</b> of a run is extremity of the most extreme k-largest interval in a run.\n",
      "*\tThe <b>extremeness</b> of the optimum interval statistic is the probability of finding a lower optimum interval statistic, that is, of finding the optimum interval in a run to be less extreme. \n",
      "\n",
      "The <b>max gap method</b> rejects a theory (places a mean outside the upper limit) based on a run if the 0-largest interval (the largest gap) is too extreme. \n",
      "\n",
      "The <b>optimum interval</b> method rejects a theory based on a run if the optimum interval statistic is too large.\n",
      "\n",
      "* The <b>energy cumulant</b> $\\epsilon(E)$ is the fraction of energies expected below the energy $E$. Whatever the (1-normalized) energy distribution $dN/dE$, $dN/d\\epsilon$ is uniform[0,1], where $0$ and $1$ correspond to the boundaries of our experimental range.\n",
      "\n"
     ]
    },
    {
     "cell_type": "code",
     "collapsed": false,
     "input": [
      "import functools\n",
      "from scipy.optimize import brenth\n",
      "import matplotlib.pyplot as plt\n",
      "import numpy as np\n",
      "import pickle\n",
      "import os"
     ],
     "language": "python",
     "metadata": {},
     "outputs": [],
     "prompt_number": 16
    },
    {
     "cell_type": "code",
     "collapsed": false,
     "input": [
      "def kLargestIntervals(list_of_energies, spectrumCDF = lambda x: x):\n",
      "    \"\"\"\n",
      "    Returns a list of the sizes of the K-largest intervals in that run according to the energy spectrum (given as a CDF).\n",
      "    That is, kLargestIntervals(...)[i] is the size of the largest interval containing i events, where \u2018largest\u2019 is defined above.\n",
      "    \n",
      "    * Transform energies to energy cumulants\n",
      "    * Add events at 0 and 1\n",
      "    * Foreach k, compute interval sizes, take max\n",
      "    \"\"\"\n",
      "    answer = {}\n",
      "    \n",
      "    list_of_energies.sort()\n",
      "    \n",
      "    energy_cumulants = spectrumCDF(list_of_energies)\n",
      "        \n",
      "    for interval_size in range(len(energy_cumulants)):\n",
      "        if (1 + interval_size) >= len(energy_cumulants):\n",
      "            continue\n",
      "            \n",
      "        temp_data = energy_cumulants.copy()\n",
      "        gap_sizes = temp_data[(1+interval_size):] - temp_data[0:-1*(1 + interval_size)] \n",
      "\n",
      "        answer[interval_size] = np.max(gap_sizes)\n",
      "\n",
      "    return answer\n",
      "\n",
      "assert kLargestIntervals(np.array([0.0, 0.1, 0.2, 0.84, 0.85]))[0] == (0.84 - 0.2)  # test 0\n",
      "assert kLargestIntervals(np.array([0.0, 0.1, 0.2, 0.84, 0.85]))[2] == (0.84 - 0.0)  # test 2\n",
      "assert kLargestIntervals(np.array([0.85, 0.0, 0.1, 0.84, 0.2]))[2] == (0.84 - 0.0)  # test unsorted"
     ],
     "language": "python",
     "metadata": {},
     "outputs": [],
     "prompt_number": 17
    },
    {
     "cell_type": "code",
     "collapsed": false,
     "input": [
      "def extremenessOfInterval(x, k, mu):\n",
      "    \"\"\"\n",
      "    Returns the extremeness of a k-largest interval of size, if the poisson mean is mu.\n",
      "    \n",
      "    (Number of itvSizes[mu][k] smaller than size) / mcTrials[mu]\n",
      "    \n",
      "    x - also size in above comment\n",
      "    k - gap (rename k)\n",
      "    \"\"\"\n",
      "    # [0] is because where returns list, where [0] is answer\n",
      "    if k not in itvSizes[mu]:\n",
      "        return 0\n",
      "    \n",
      "    return np.where(itvSizes[mu][k] < x)[0].size / mcTrials[mu]\n"
     ],
     "language": "python",
     "metadata": {},
     "outputs": [],
     "prompt_number": 18
    },
    {
     "cell_type": "code",
     "collapsed": false,
     "input": [
      "def optimumItvStatistic(list_of_energies, mu, spectrumCDF = lambda x: x):\n",
      "    \"\"\"\n",
      "    Returns the optimum interval statistic of the run.\n",
      "    \n",
      "    Max of extremenssOfInterval's\n",
      "    \"\"\"\n",
      "    return np.max([extremenessOfInterval(x, k, mu) for k, x in kLargestIntervals(list_of_energies, spectrumCDF).items()])\n"
     ],
     "language": "python",
     "metadata": {},
     "outputs": [],
     "prompt_number": 19
    },
    {
     "cell_type": "code",
     "collapsed": false,
     "input": [
      "def extremenessOfOptItvStat(stat, mu):\n",
      "    \"\"\"\n",
      "    Returns the extremeness of the optimum interval statistic stat, given mu\n",
      "    \n",
      "    (Number of optItvs[mu] smaller than stat) / mcTrials[mu]\n",
      "    \"\"\"\n",
      "    return np.where(optItvs[mu] < stat)[0].size / mcTrials[mu]\n"
     ],
     "language": "python",
     "metadata": {},
     "outputs": [],
     "prompt_number": 20
    },
    {
     "cell_type": "code",
     "collapsed": false,
     "input": [
      "def optItvUpperLimit(list_of_energies, c, spectrumCDF = lambda x: x,\n",
      "                     n = 1000):\n",
      "    \"\"\"\n",
      "    Returns the c- confidence upper limit on mu using optimum interval\n",
      "    \n",
      "    For which mu is extremenessOfOptItvStat( optimumItvStatistic(run), mu ) = c\n",
      "    \n",
      "    c - e.g., 0.9\n",
      "    \"\"\"\n",
      "    def f(mu, list_of_energies, c, spectrumCDF, n):\n",
      "        generate_table(mu, n)\n",
      "        x = optimumItvStatistic(list_of_energies, mu, spectrumCDF)\n",
      "        prob = extremenessOfOptItvStat(x, mu)\n",
      "        return prob - c\n",
      "\n",
      "    mu = 0\n",
      "\n",
      "    for mu in np.arange(10, 2 * list_of_energies.size):\n",
      "        if f(mu, list_of_energies, c, spectrumCDF, n) > 0:\n",
      "            print('Found seed mu=%f' % mu)\n",
      "            break\n",
      "        \n",
      "    try:\n",
      "        xsec = brenth(f, mu - 5, mu + 5,\n",
      "                  args=(list_of_energies, c, spectrumCDF, n),\n",
      "                  xtol=1e-2) \n",
      "        print('Improved xsec:', xsec)\n",
      "    except:\n",
      "        print(\"ERROR: could not minimize\", mu)\n",
      "        return mu\n",
      "    return xsec\n",
      "\n",
      "\n",
      "\n",
      "    "
     ],
     "language": "python",
     "metadata": {},
     "outputs": [],
     "prompt_number": 26
    },
    {
     "cell_type": "code",
     "collapsed": false,
     "input": [
      "def generate_trial_experiment(mu, n):\n",
      "    trials = []\n",
      "\n",
      "    for index in range(n):\n",
      "        this_mu = np.random.poisson(mu)\n",
      "        \n",
      "        rand_numbers = np.random.random(size=this_mu)\n",
      "        rand_numbers = np.append(rand_numbers, [0.0, 1.0])\n",
      "        rand_numbers.sort()\n",
      "        trials.append(rand_numbers)\n",
      "\n",
      "    return trials"
     ],
     "language": "python",
     "metadata": {},
     "outputs": [],
     "prompt_number": 22
    },
    {
     "cell_type": "heading",
     "level": 2,
     "metadata": {},
     "source": [
      "Monte Carlo for populating itvSizes[$\\mu$][$k$] and optItvs[$\\mu$]"
     ]
    },
    {
     "cell_type": "code",
     "collapsed": false,
     "input": [
      "def get_filename():\n",
      "    return 'saved_intervals.p'\n",
      "\n",
      "def load_table_from_disk():\n",
      "    global itvSizes\n",
      "    global optItvs\n",
      "    global mcTrials\n",
      "    \n",
      "    if os.path.exists(get_filename()):\n",
      "        f = open(get_filename(), 'rb')\n",
      "        itvSizes = pickle.load(f)\n",
      "        optItvs = pickle.load(f)\n",
      "        mcTrials = pickle.load(f)\n",
      "        f.close()\n",
      "\n",
      "    \n",
      "def write_table_to_disk():\n",
      "    f = open(get_filename(), 'wb')\n",
      "    pickle.dump(itvSizes, f)\n",
      "    pickle.dump(optItvs, f)\n",
      "    pickle.dump(mcTrials, f)\n",
      "    f.close()\n",
      "\n",
      "itvSizes = {}\n",
      "optItvs = {}\n",
      "mcTrials = {}\n",
      "load_table_from_disk()    \n",
      "    \n",
      "def generate_table(mu, n):\n",
      "    \"\"\"    #Generate trial runs\"\"\"    \n",
      "    if mu in mcTrials and mcTrials[mu] >= n:\n",
      "        return\n",
      "\n",
      "    print(\"Generating\", mu)\n",
      "\n",
      "    mcTrials[mu] = n\n",
      "    trials = generate_trial_experiment(mu, mcTrials[mu])\n",
      "\n",
      "    itvSizes[mu] = {}\n",
      "    optItvs[mu] = []\n",
      "\n",
      "    for trial in trials:\n",
      "        intermediate_result = kLargestIntervals(trial)\n",
      "        \n",
      "        for k, v in intermediate_result.items():\n",
      "            if k not in itvSizes[mu]:\n",
      "                itvSizes[mu][k] = []\n",
      "\n",
      "            itvSizes[mu][k].append(v)\n",
      "    \n",
      "    # Numpy-ize it\n",
      "    for k, array in itvSizes[mu].items():\n",
      "        itvSizes[mu][k] = np.array(array)\n",
      "    \n",
      "    for trial in trials:\n",
      "        optItvs[mu].append(optimumItvStatistic(trial, mu))\n",
      "        \n",
      "    # Numpy-ize it\n",
      "    optItvs[mu] = np.array(optItvs[mu])\n",
      "    \n",
      "    \n",
      "\n",
      "\n",
      "def cache_values(my_max=200, n=100):\n",
      "    for i in range(3, my_max):\n",
      "        generate_table(i, n)\n",
      "    write_table_to_disk()\n",
      "\n"
     ],
     "language": "python",
     "metadata": {},
     "outputs": [],
     "prompt_number": 36
    },
    {
     "cell_type": "code",
     "collapsed": false,
     "input": [
      "def plot_something():\n",
      "    x, y = [], []\n",
      "    \n",
      "    for mu in np.linspace(3.5, 6.5, 20):\n",
      "        generate_table(mu, 10000)\n",
      "        x.append(mu)\n",
      "        \n",
      "        a = brenth(lambda x: extremenessOfOptItvStat(x, mu) - 0.9,\n",
      "                   0,\n",
      "                   1,\n",
      "                   xtol=1e-2)\n",
      "        \n",
      "        y.append(a)\n",
      "        \n",
      "    plt.plot(x,y)\n",
      "    plt.xscale('log')\n",
      "    plt.xlim(3.5, 6.5)\n",
      "    \n",
      "#plot_something()"
     ],
     "language": "python",
     "metadata": {},
     "outputs": [
      {
       "metadata": {},
       "output_type": "display_data",
       "png": "[encoded data removed]",
       "text": [
        "<matplotlib.figure.Figure at 0x7f4f6005f510>"
       ]
      }
     ],
     "prompt_number": 52
    },
    {
     "cell_type": "code",
     "collapsed": false,
     "input": [
      "def simple_test_uniform():\n",
      "    test_list_of_energies = generate_trial_experiment(mu=100, n=1)[0]\n",
      "    print(len(test_list_of_energies))\n",
      "    answer = optItvUpperLimit(test_list_of_energies, 0.9)"
     ],
     "language": "python",
     "metadata": {},
     "outputs": [
      {
       "output_type": "stream",
       "stream": "stdout",
       "text": [
        "107\n",
        "testing mu=3.000000\n",
        "... 0.000000, so continuing...\n",
        "testing mu=4.000000\n",
        "... 0.000000, so continuing...\n",
        "testing mu=5.000000\n",
        "... 0.000000, so continuing...\n",
        "testing mu=6.000000\n",
        "... 0.000000, so continuing...\n",
        "testing mu=7.000000\n",
        "... 0.000000, so continuing...\n",
        "testing mu=8.000000\n",
        "... 0.000000, so continuing...\n",
        "testing mu=9.000000\n",
        "... 0.000000, so continuing...\n",
        "testing mu=10.000000\n",
        "... 0.000000, so continuing...\n",
        "testing mu=11.000000\n",
        "... 0.000000, so continuing...\n",
        "testing mu=12.000000\n",
        "... 0.000000, so continuing...\n",
        "testing mu=13.000000\n",
        "... 0.000000, so continuing...\n",
        "testing mu=14.000000\n",
        "... 0.000000, so continuing...\n",
        "testing mu=15.000000\n",
        "... 0.000000, so continuing...\n",
        "testing mu=16.000000\n",
        "... 0.000000, so continuing...\n",
        "testing mu=17.000000\n",
        "... 0.000000, so continuing...\n",
        "testing mu=18.000000\n",
        "... 0.000000, so continuing...\n",
        "testing mu=19.000000\n",
        "... 0.000000, so continuing..."
       ]
      },
      {
       "output_type": "stream",
       "stream": "stdout",
       "text": [
        "\n",
        "testing mu=20.000000\n",
        "... 0.000000, so continuing...\n",
        "testing mu=21.000000\n",
        "... 0.000000, so continuing...\n",
        "testing mu=22.000000\n",
        "... 0.000000, so continuing...\n",
        "testing mu=23.000000\n",
        "Generating 23\n",
        "... 0.000000, so continuing..."
       ]
      },
      {
       "output_type": "stream",
       "stream": "stdout",
       "text": [
        "\n",
        "testing mu=24.000000\n",
        "Generating 24\n",
        "... 0.000000, so continuing..."
       ]
      },
      {
       "output_type": "stream",
       "stream": "stdout",
       "text": [
        "\n",
        "testing mu=25.000000\n",
        "Generating 25\n",
        "... 0.000000, so continuing..."
       ]
      },
      {
       "output_type": "stream",
       "stream": "stdout",
       "text": [
        "\n",
        "testing mu=26.000000\n",
        "Generating 26\n",
        "... 0.000000, so continuing..."
       ]
      },
      {
       "output_type": "stream",
       "stream": "stdout",
       "text": [
        "\n",
        "testing mu=27.000000\n",
        "Generating 27\n",
        "... 0.000000, so continuing..."
       ]
      },
      {
       "output_type": "stream",
       "stream": "stdout",
       "text": [
        "\n",
        "testing mu=28.000000\n",
        "Generating 28\n",
        "... 0.000000, so continuing..."
       ]
      },
      {
       "output_type": "stream",
       "stream": "stdout",
       "text": [
        "\n",
        "testing mu=29.000000\n",
        "Generating 29\n",
        "... 0.000000, so continuing..."
       ]
      },
      {
       "output_type": "stream",
       "stream": "stdout",
       "text": [
        "\n",
        "testing mu=30.000000\n",
        "Generating 30\n",
        "... 0.000000, so continuing..."
       ]
      },
      {
       "output_type": "stream",
       "stream": "stdout",
       "text": [
        "\n",
        "testing mu=31.000000\n",
        "Generating 31\n",
        "... 0.000000, so continuing..."
       ]
      },
      {
       "output_type": "stream",
       "stream": "stdout",
       "text": [
        "\n",
        "testing mu=32.000000\n",
        "Generating 32\n",
        "... 0.000000, so continuing..."
       ]
      },
      {
       "output_type": "stream",
       "stream": "stdout",
       "text": [
        "\n",
        "testing mu=33.000000\n",
        "Generating 33\n",
        "... 0.000000, so continuing..."
       ]
      },
      {
       "output_type": "stream",
       "stream": "stdout",
       "text": [
        "\n",
        "testing mu=34.000000\n",
        "Generating 34\n",
        "... 0.000000, so continuing..."
       ]
      },
      {
       "output_type": "stream",
       "stream": "stdout",
       "text": [
        "\n",
        "testing mu=35.000000\n",
        "Generating 35\n",
        "... 0.000000, so continuing..."
       ]
      },
      {
       "output_type": "stream",
       "stream": "stdout",
       "text": [
        "\n",
        "testing mu=36.000000\n",
        "Generating 36\n",
        "... 0.000000, so continuing..."
       ]
      },
      {
       "output_type": "stream",
       "stream": "stdout",
       "text": [
        "\n",
        "testing mu=37.000000\n",
        "Generating 37\n",
        "... 0.000000, so continuing..."
       ]
      },
      {
       "output_type": "stream",
       "stream": "stdout",
       "text": [
        "\n",
        "testing mu=38.000000\n",
        "Generating 38\n",
        "... 0.000000, so continuing..."
       ]
      },
      {
       "output_type": "stream",
       "stream": "stdout",
       "text": [
        "\n",
        "testing mu=39.000000\n",
        "Generating 39\n",
        "... 0.000000, so continuing..."
       ]
      },
      {
       "output_type": "stream",
       "stream": "stdout",
       "text": [
        "\n",
        "testing mu=40.000000\n",
        "Generating 40\n",
        "... 0.000000, so continuing..."
       ]
      },
      {
       "output_type": "stream",
       "stream": "stdout",
       "text": [
        "\n",
        "testing mu=41.000000\n",
        "Generating 41\n",
        "... 0.000000, so continuing..."
       ]
      },
      {
       "output_type": "stream",
       "stream": "stdout",
       "text": [
        "\n",
        "testing mu=42.000000\n",
        "Generating 42\n",
        "... 0.000000, so continuing..."
       ]
      },
      {
       "output_type": "stream",
       "stream": "stdout",
       "text": [
        "\n",
        "testing mu=43.000000\n",
        "Generating 43\n",
        "... 0.000000, so continuing..."
       ]
      },
      {
       "output_type": "stream",
       "stream": "stdout",
       "text": [
        "\n",
        "testing mu=44.000000\n",
        "Generating 44\n",
        "... 0.000000, so continuing..."
       ]
      },
      {
       "output_type": "stream",
       "stream": "stdout",
       "text": [
        "\n",
        "testing mu=45.000000\n",
        "Generating 45\n",
        "... 0.000000, so continuing..."
       ]
      },
      {
       "output_type": "stream",
       "stream": "stdout",
       "text": [
        "\n",
        "testing mu=46.000000\n",
        "Generating 46\n",
        "... 0.000000, so continuing..."
       ]
      },
      {
       "output_type": "stream",
       "stream": "stdout",
       "text": [
        "\n",
        "testing mu=47.000000\n",
        "Generating 47\n",
        "... 0.000000, so continuing..."
       ]
      },
      {
       "output_type": "stream",
       "stream": "stdout",
       "text": [
        "\n",
        "testing mu=48.000000\n",
        "Generating 48\n",
        "... 0.000000, so continuing..."
       ]
      },
      {
       "output_type": "stream",
       "stream": "stdout",
       "text": [
        "\n",
        "testing mu=49.000000\n",
        "Generating 49\n",
        "... 0.000000, so continuing..."
       ]
      },
      {
       "output_type": "stream",
       "stream": "stdout",
       "text": [
        "\n",
        "testing mu=50.000000\n",
        "Generating 50\n",
        "... 0.000000, so continuing..."
       ]
      },
      {
       "output_type": "stream",
       "stream": "stdout",
       "text": [
        "\n",
        "testing mu=51.000000\n",
        "Generating 51\n",
        "... 0.001000, so continuing..."
       ]
      },
      {
       "output_type": "stream",
       "stream": "stdout",
       "text": [
        "\n",
        "testing mu=52.000000\n",
        "Generating 52\n",
        "... 0.000000, so continuing..."
       ]
      },
      {
       "output_type": "stream",
       "stream": "stdout",
       "text": [
        "\n",
        "testing mu=53.000000\n",
        "Generating 53\n",
        "... 0.000000, so continuing..."
       ]
      },
      {
       "output_type": "stream",
       "stream": "stdout",
       "text": [
        "\n",
        "testing mu=54.000000\n",
        "Generating 54\n",
        "... 0.002000, so continuing..."
       ]
      },
      {
       "output_type": "stream",
       "stream": "stdout",
       "text": [
        "\n",
        "testing mu=55.000000\n",
        "Generating 55\n",
        "... 0.001000, so continuing..."
       ]
      },
      {
       "output_type": "stream",
       "stream": "stdout",
       "text": [
        "\n",
        "testing mu=56.000000\n",
        "Generating 56\n",
        "... 0.002000, so continuing..."
       ]
      },
      {
       "output_type": "stream",
       "stream": "stdout",
       "text": [
        "\n",
        "testing mu=57.000000\n",
        "Generating 57\n",
        "... 0.003000, so continuing..."
       ]
      },
      {
       "output_type": "stream",
       "stream": "stdout",
       "text": [
        "\n",
        "testing mu=58.000000\n",
        "Generating 58\n",
        "... 0.000000, so continuing..."
       ]
      },
      {
       "output_type": "stream",
       "stream": "stdout",
       "text": [
        "\n",
        "testing mu=59.000000\n",
        "Generating 59\n",
        "... 0.005000, so continuing..."
       ]
      },
      {
       "output_type": "stream",
       "stream": "stdout",
       "text": [
        "\n",
        "testing mu=60.000000\n",
        "Generating 60\n",
        "... 0.002000, so continuing..."
       ]
      },
      {
       "output_type": "stream",
       "stream": "stdout",
       "text": [
        "\n",
        "testing mu=61.000000\n",
        "Generating 61\n",
        "... 0.007000, so continuing..."
       ]
      },
      {
       "output_type": "stream",
       "stream": "stdout",
       "text": [
        "\n",
        "testing mu=62.000000\n",
        "Generating 62\n",
        "... 0.006000, so continuing..."
       ]
      },
      {
       "output_type": "stream",
       "stream": "stdout",
       "text": [
        "\n",
        "testing mu=63.000000\n",
        "Generating 63\n",
        "... 0.009000, so continuing..."
       ]
      },
      {
       "output_type": "stream",
       "stream": "stdout",
       "text": [
        "\n",
        "testing mu=64.000000\n",
        "Generating 64\n",
        "... 0.013000, so continuing..."
       ]
      },
      {
       "output_type": "stream",
       "stream": "stdout",
       "text": [
        "\n",
        "testing mu=65.000000\n",
        "Generating 65\n",
        "... 0.012000, so continuing..."
       ]
      },
      {
       "output_type": "stream",
       "stream": "stdout",
       "text": [
        "\n",
        "testing mu=66.000000\n",
        "Generating 66\n",
        "... 0.031000, so continuing..."
       ]
      },
      {
       "output_type": "stream",
       "stream": "stdout",
       "text": [
        "\n",
        "testing mu=67.000000\n",
        "Generating 67\n",
        "... 0.036000, so continuing..."
       ]
      },
      {
       "output_type": "stream",
       "stream": "stdout",
       "text": [
        "\n",
        "testing mu=68.000000\n",
        "Generating 68\n",
        "... 0.034000, so continuing..."
       ]
      },
      {
       "output_type": "stream",
       "stream": "stdout",
       "text": [
        "\n",
        "testing mu=69.000000\n",
        "Generating 69\n",
        "... 0.038000, so continuing..."
       ]
      },
      {
       "output_type": "stream",
       "stream": "stdout",
       "text": [
        "\n",
        "testing mu=70.000000\n",
        "Generating 70\n",
        "... 0.043000, so continuing..."
       ]
      },
      {
       "output_type": "stream",
       "stream": "stdout",
       "text": [
        "\n",
        "testing mu=71.000000\n",
        "Generating 71\n",
        "... 0.054000, so continuing..."
       ]
      },
      {
       "output_type": "stream",
       "stream": "stdout",
       "text": [
        "\n",
        "testing mu=72.000000\n",
        "Generating 72\n",
        "... 0.059000, so continuing..."
       ]
      },
      {
       "output_type": "stream",
       "stream": "stdout",
       "text": [
        "\n",
        "testing mu=73.000000\n",
        "Generating 73\n",
        "... 0.052000, so continuing..."
       ]
      },
      {
       "output_type": "stream",
       "stream": "stdout",
       "text": [
        "\n",
        "testing mu=74.000000\n",
        "Generating 74\n",
        "... 0.072000, so continuing..."
       ]
      },
      {
       "output_type": "stream",
       "stream": "stdout",
       "text": [
        "\n",
        "testing mu=75.000000\n",
        "Generating 75\n",
        "... 0.094000, so continuing..."
       ]
      },
      {
       "output_type": "stream",
       "stream": "stdout",
       "text": [
        "\n",
        "testing mu=76.000000\n",
        "Generating 76\n",
        "... 0.101000, so continuing..."
       ]
      },
      {
       "output_type": "stream",
       "stream": "stdout",
       "text": [
        "\n",
        "testing mu=77.000000\n",
        "Generating 77\n",
        "... 0.121000, so continuing..."
       ]
      },
      {
       "output_type": "stream",
       "stream": "stdout",
       "text": [
        "\n",
        "testing mu=78.000000\n",
        "Generating 78\n",
        "... 0.144000, so continuing..."
       ]
      },
      {
       "output_type": "stream",
       "stream": "stdout",
       "text": [
        "\n",
        "testing mu=79.000000\n",
        "Generating 79\n",
        "... 0.159000, so continuing..."
       ]
      },
      {
       "output_type": "stream",
       "stream": "stdout",
       "text": [
        "\n",
        "testing mu=80.000000\n",
        "Generating 80\n",
        "... 0.177000, so continuing..."
       ]
      },
      {
       "output_type": "stream",
       "stream": "stdout",
       "text": [
        "\n",
        "testing mu=81.000000\n",
        "Generating 81\n",
        "... 0.192000, so continuing..."
       ]
      },
      {
       "output_type": "stream",
       "stream": "stdout",
       "text": [
        "\n",
        "testing mu=82.000000\n",
        "Generating 82\n",
        "... 0.221000, so continuing..."
       ]
      },
      {
       "output_type": "stream",
       "stream": "stdout",
       "text": [
        "\n",
        "testing mu=83.000000\n",
        "Generating 83\n",
        "... 0.232000, so continuing..."
       ]
      },
      {
       "output_type": "stream",
       "stream": "stdout",
       "text": [
        "\n",
        "testing mu=84.000000\n",
        "Generating 84\n",
        "... 0.268000, so continuing..."
       ]
      },
      {
       "output_type": "stream",
       "stream": "stdout",
       "text": [
        "\n",
        "testing mu=85.000000\n",
        "Generating 85\n",
        "... 0.257000, so continuing..."
       ]
      },
      {
       "output_type": "stream",
       "stream": "stdout",
       "text": [
        "\n",
        "testing mu=86.000000\n",
        "Generating 86\n",
        "... 0.270000, so continuing..."
       ]
      },
      {
       "output_type": "stream",
       "stream": "stdout",
       "text": [
        "\n",
        "testing mu=87.000000\n",
        "Generating 87\n",
        "... 0.310000, so continuing..."
       ]
      },
      {
       "output_type": "stream",
       "stream": "stdout",
       "text": [
        "\n",
        "testing mu=88.000000\n",
        "Generating 88\n",
        "... 0.343000, so continuing..."
       ]
      },
      {
       "output_type": "stream",
       "stream": "stdout",
       "text": [
        "\n",
        "testing mu=89.000000\n",
        "Generating 89\n",
        "... 0.391000, so continuing..."
       ]
      },
      {
       "output_type": "stream",
       "stream": "stdout",
       "text": [
        "\n",
        "testing mu=90.000000\n",
        "Generating 90\n",
        "... 0.455000, so continuing..."
       ]
      },
      {
       "output_type": "stream",
       "stream": "stdout",
       "text": [
        "\n",
        "testing mu=91.000000\n",
        "Generating 91\n",
        "... 0.418000, so continuing..."
       ]
      },
      {
       "output_type": "stream",
       "stream": "stdout",
       "text": [
        "\n",
        "testing mu=92.000000\n",
        "Generating 92\n",
        "... 0.467000, so continuing..."
       ]
      },
      {
       "output_type": "stream",
       "stream": "stdout",
       "text": [
        "\n",
        "testing mu=93.000000\n",
        "Generating 93\n",
        "... 0.492000, so continuing..."
       ]
      },
      {
       "output_type": "stream",
       "stream": "stdout",
       "text": [
        "\n",
        "testing mu=94.000000\n",
        "Generating 94\n",
        "... 0.523000, so continuing..."
       ]
      },
      {
       "output_type": "stream",
       "stream": "stdout",
       "text": [
        "\n",
        "testing mu=95.000000\n",
        "Generating 95\n",
        "... 0.528000, so continuing..."
       ]
      },
      {
       "output_type": "stream",
       "stream": "stdout",
       "text": [
        "\n",
        "testing mu=96.000000\n",
        "Generating 96\n",
        "... 0.536000, so continuing..."
       ]
      },
      {
       "output_type": "stream",
       "stream": "stdout",
       "text": [
        "\n",
        "testing mu=97.000000\n",
        "Generating 97\n",
        "... 0.572000, so continuing..."
       ]
      },
      {
       "output_type": "stream",
       "stream": "stdout",
       "text": [
        "\n",
        "testing mu=98.000000\n",
        "Generating 98\n",
        "... 0.576000, so continuing..."
       ]
      },
      {
       "output_type": "stream",
       "stream": "stdout",
       "text": [
        "\n",
        "testing mu=99.000000\n",
        "Generating 99\n",
        "... 0.644000, so continuing..."
       ]
      },
      {
       "output_type": "stream",
       "stream": "stdout",
       "text": [
        "\n",
        "testing mu=100.000000\n",
        "Generating 100\n",
        "... 0.644000, so continuing..."
       ]
      },
      {
       "output_type": "stream",
       "stream": "stdout",
       "text": [
        "\n",
        "testing mu=101.000000\n",
        "Generating 101\n",
        "... 0.704000, so continuing..."
       ]
      },
      {
       "output_type": "stream",
       "stream": "stdout",
       "text": [
        "\n",
        "testing mu=102.000000\n",
        "Generating 102\n",
        "... 0.663000, so continuing..."
       ]
      },
      {
       "output_type": "stream",
       "stream": "stdout",
       "text": [
        "\n",
        "testing mu=103.000000\n",
        "Generating 103\n",
        "... 0.698000, so continuing..."
       ]
      },
      {
       "output_type": "stream",
       "stream": "stdout",
       "text": [
        "\n",
        "testing mu=104.000000\n",
        "Generating 104\n",
        "... 0.708000, so continuing..."
       ]
      },
      {
       "output_type": "stream",
       "stream": "stdout",
       "text": [
        "\n",
        "testing mu=105.000000\n",
        "Generating 105\n",
        "... 0.726000, so continuing..."
       ]
      },
      {
       "output_type": "stream",
       "stream": "stdout",
       "text": [
        "\n",
        "testing mu=106.000000\n",
        "Generating 106\n",
        "... 0.748000, so continuing..."
       ]
      },
      {
       "output_type": "stream",
       "stream": "stdout",
       "text": [
        "\n",
        "testing mu=107.000000\n",
        "Generating 107\n",
        "... 0.772000, so continuing..."
       ]
      },
      {
       "output_type": "stream",
       "stream": "stdout",
       "text": [
        "\n",
        "testing mu=108.000000\n",
        "Generating 108\n",
        "... 0.802000, so continuing..."
       ]
      },
      {
       "output_type": "stream",
       "stream": "stdout",
       "text": [
        "\n",
        "testing mu=109.000000\n",
        "Generating 109\n",
        "... 0.806000, so continuing..."
       ]
      },
      {
       "output_type": "stream",
       "stream": "stdout",
       "text": [
        "\n",
        "testing mu=110.000000\n",
        "Generating 110\n",
        "... 0.832000, so continuing..."
       ]
      },
      {
       "output_type": "stream",
       "stream": "stdout",
       "text": [
        "\n",
        "testing mu=111.000000\n",
        "Generating 111\n",
        "... 0.844000, so continuing..."
       ]
      },
      {
       "output_type": "stream",
       "stream": "stdout",
       "text": [
        "\n",
        "testing mu=112.000000\n",
        "Generating 112\n",
        "... 0.832000, so continuing..."
       ]
      },
      {
       "output_type": "stream",
       "stream": "stdout",
       "text": [
        "\n",
        "testing mu=113.000000\n",
        "Generating 113\n",
        "... 0.854000, so continuing..."
       ]
      },
      {
       "output_type": "stream",
       "stream": "stdout",
       "text": [
        "\n",
        "testing mu=114.000000\n",
        "Generating 114\n",
        "... 0.877000, so continuing..."
       ]
      },
      {
       "output_type": "stream",
       "stream": "stdout",
       "text": [
        "\n",
        "testing mu=115.000000\n",
        "Generating 115\n",
        "... 0.838000, so continuing..."
       ]
      },
      {
       "output_type": "stream",
       "stream": "stdout",
       "text": [
        "\n",
        "testing mu=116.000000\n",
        "Generating 116\n",
        "... 0.899000, so continuing..."
       ]
      },
      {
       "output_type": "stream",
       "stream": "stdout",
       "text": [
        "\n",
        "testing mu=117.000000\n",
        "Generating 117\n",
        "... 0.882000, so continuing..."
       ]
      },
      {
       "output_type": "stream",
       "stream": "stdout",
       "text": [
        "\n",
        "testing mu=118.000000\n",
        "Generating 118\n",
        "Found 118.000000 -> 0.902000"
       ]
      },
      {
       "output_type": "stream",
       "stream": "stdout",
       "text": [
        "\n"
       ]
      }
     ],
     "prompt_number": 71
    }
   ],
   "metadata": {}
  }
 ]
}